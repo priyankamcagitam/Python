{
 "cells": [
  {
   "cell_type": "markdown",
   "metadata": {},
   "source": [
    "Q:Create the below pattern using nested for loop in Python.\n",
    "\n",
    "*\n",
    "* *\n",
    "* * *\n",
    "* * * *\n",
    "* * * * *\n",
    "* * * *\n",
    "* * *\n",
    "* *\n",
    "*"
   ]
  },
  {
   "cell_type": "code",
   "execution_count": 15,
   "metadata": {},
   "outputs": [
    {
     "name": "stdout",
     "output_type": "stream",
     "text": [
      "*   \n",
      "\n",
      "*   *   \n",
      "\n",
      "*   *   *   \n",
      "\n",
      "*   *   *   *   \n",
      "\n",
      "*   *   *   *   *   \n",
      "\n",
      "*   *   *   *   \n",
      "\n",
      "*   *   *   \n",
      "\n",
      "*   *   \n",
      "\n",
      "*   \n",
      "\n"
     ]
    }
   ],
   "source": [
    "lst1 = list(range(1,6)) + list(range(1,5))[::-1]\n",
    "for i in lst1:\n",
    "    for j in range(i):\n",
    "         print(\"* \",end=\"  \")\n",
    "    print(\"\\n\")"
   ]
  },
  {
   "cell_type": "markdown",
   "metadata": {},
   "source": [
    "Q: Write a Python program to reverse a word after accepting the input from the user\n",
    "   Sample Output:\n",
    "   Input word: ineuron\n",
    "   Output: norueni\n"
   ]
  },
  {
   "cell_type": "code",
   "execution_count": 17,
   "metadata": {},
   "outputs": [
    {
     "name": "stdout",
     "output_type": "stream",
     "text": [
      "Enter the word Priyanka\n",
      "aknayirP\n"
     ]
    }
   ],
   "source": [
    "lst = input(\"Enter the word \")\n",
    "print(lst[::-1])"
   ]
  },
  {
   "cell_type": "code",
   "execution_count": null,
   "metadata": {},
   "outputs": [],
   "source": []
  }
 ],
 "metadata": {
  "kernelspec": {
   "display_name": "Python 3",
   "language": "python",
   "name": "python3"
  },
  "language_info": {
   "codemirror_mode": {
    "name": "ipython",
    "version": 3
   },
   "file_extension": ".py",
   "mimetype": "text/x-python",
   "name": "python",
   "nbconvert_exporter": "python",
   "pygments_lexer": "ipython3",
   "version": "3.7.6"
  }
 },
 "nbformat": 4,
 "nbformat_minor": 4
}
