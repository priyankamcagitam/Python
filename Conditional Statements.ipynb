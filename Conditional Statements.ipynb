{
 "cells": [
  {
   "cell_type": "code",
   "execution_count": 2,
   "metadata": {},
   "outputs": [],
   "source": [
    "Stationaries = [\"pen\", \"copy\", \"book\", \"marker\",\"highlighter\",\"mouse\" ,\"storybook\"]"
   ]
  },
  {
   "cell_type": "code",
   "execution_count": 3,
   "metadata": {},
   "outputs": [
    {
     "name": "stdout",
     "output_type": "stream",
     "text": [
      "pen\n",
      "copy\n",
      "book\n",
      "marker\n",
      "highlighter\n"
     ]
    }
   ],
   "source": [
    "## for loop\n",
    "for stationary in Stationaries:\n",
    "    print(stationary)"
   ]
  },
  {
   "cell_type": "code",
   "execution_count": 5,
   "metadata": {},
   "outputs": [
    {
     "name": "stdout",
     "output_type": "stream",
     "text": [
      "Pen\n",
      "Copy\n",
      "Book\n",
      "Marker\n",
      "Highlighter\n"
     ]
    }
   ],
   "source": [
    "for stationary in Stationaries:\n",
    "    print(stationary.title())"
   ]
  },
  {
   "cell_type": "code",
   "execution_count": 7,
   "metadata": {},
   "outputs": [
    {
     "name": "stdout",
     "output_type": "stream",
     "text": [
      "marker\n"
     ]
    }
   ],
   "source": [
    "## Conditional statements\n",
    "for stationary in Stationaries:\n",
    "    if stationary == \"marker\":\n",
    "        print(stationary)"
   ]
  },
  {
   "cell_type": "code",
   "execution_count": 8,
   "metadata": {},
   "outputs": [
    {
     "name": "stdout",
     "output_type": "stream",
     "text": [
      "pen\n",
      "copy\n",
      "book\n",
      "highlighter\n"
     ]
    }
   ],
   "source": [
    "for stationary in Stationaries:\n",
    "    if stationary != \"marker\":\n",
    "        print(stationary)"
   ]
  },
  {
   "cell_type": "code",
   "execution_count": 11,
   "metadata": {},
   "outputs": [
    {
     "name": "stdout",
     "output_type": "stream",
     "text": [
      "Available stationaries are  ['pen', 'copy', 'book', 'marker', 'highlighter']\n"
     ]
    }
   ],
   "source": [
    "for stationary in Stationaries:\n",
    "    if stationary == \"notebook\":\n",
    "        print(stationary)\n",
    "else:\n",
    "    print(\"Available stationaries are \", Stationaries)"
   ]
  },
  {
   "cell_type": "code",
   "execution_count": 12,
   "metadata": {},
   "outputs": [
    {
     "name": "stdout",
     "output_type": "stream",
     "text": [
      "marker\n"
     ]
    }
   ],
   "source": [
    "for stationary in Stationaries:\n",
    "    if stationary == \"marker\":\n",
    "        break\n",
    "print(stationary)"
   ]
  },
  {
   "cell_type": "code",
   "execution_count": 25,
   "metadata": {},
   "outputs": [
    {
     "name": "stdout",
     "output_type": "stream",
     "text": [
      "pen\n",
      "copy\n",
      "book\n"
     ]
    }
   ],
   "source": [
    "for stationary in Stationaries:\n",
    "    \n",
    "    if stationary == \"marker\":\n",
    "        break\n",
    "    print(stationary)\n",
    "    \n",
    "      \n"
   ]
  },
  {
   "cell_type": "code",
   "execution_count": 27,
   "metadata": {},
   "outputs": [
    {
     "name": "stdout",
     "output_type": "stream",
     "text": [
      "PEN\n",
      "COPY\n",
      "BOOK\n",
      "MARKER\n",
      "HIGHLIGHTER\n"
     ]
    }
   ],
   "source": [
    "for stationary in Stationaries:\n",
    "    print(stationary.upper())"
   ]
  },
  {
   "cell_type": "code",
   "execution_count": 24,
   "metadata": {},
   "outputs": [
    {
     "name": "stdout",
     "output_type": "stream",
     "text": [
      "pen\n"
     ]
    }
   ],
   "source": [
    "for stationary in Stationaries:\n",
    "    print(stationary)\n",
    "    if stationary != \"marker\":\n",
    "        break"
   ]
  },
  {
   "cell_type": "code",
   "execution_count": 28,
   "metadata": {},
   "outputs": [],
   "source": [
    "alien_color = [\"green\", \"yellow\", \"red\"]"
   ]
  },
  {
   "cell_type": "code",
   "execution_count": 31,
   "metadata": {},
   "outputs": [
    {
     "name": "stdout",
     "output_type": "stream",
     "text": [
      "player just earned 5 points\n"
     ]
    }
   ],
   "source": [
    "for aliens in alien_color:\n",
    "    if aliens == \"green\":\n",
    "        print(\"player just earned 5 points\")"
   ]
  },
  {
   "cell_type": "code",
   "execution_count": 41,
   "metadata": {},
   "outputs": [
    {
     "name": "stdout",
     "output_type": "stream",
     "text": [
      "player just earned 10 points\n",
      "player just earned 10 points\n"
     ]
    }
   ],
   "source": [
    "for aliens in  alien_color:\n",
    "    if aliens != \"red\":\n",
    "        print(\"player just earned 10 points\")\n",
    " "
   ]
  },
  {
   "cell_type": "code",
   "execution_count": 42,
   "metadata": {},
   "outputs": [
    {
     "name": "stdout",
     "output_type": "stream",
     "text": [
      "person is a baby\n"
     ]
    }
   ],
   "source": [
    "person_age = [2,4,13,20,65]\n",
    "for pa in person_age:\n",
    "    if pa<=2:\n",
    "        print(\"person is a baby\")"
   ]
  },
  {
   "cell_type": "code",
   "execution_count": 49,
   "metadata": {},
   "outputs": [
    {
     "name": "stdout",
     "output_type": "stream",
     "text": [
      "person is a kid\n"
     ]
    }
   ],
   "source": [
    "person_age = [2,4,13,20,65]\n",
    "for pa in person_age:\n",
    "    if (pa>=4)&(pa<13):\n",
    "        print(\"person is a kid\")"
   ]
  },
  {
   "cell_type": "code",
   "execution_count": 50,
   "metadata": {},
   "outputs": [
    {
     "name": "stdout",
     "output_type": "stream",
     "text": [
      "person is a toddler\n"
     ]
    }
   ],
   "source": [
    "person_age = [2,4,13,20,65]\n",
    "for pa in person_age:\n",
    "    if (pa>2)&(pa<=4):\n",
    "        print(\"person is a toddler\")"
   ]
  },
  {
   "cell_type": "code",
   "execution_count": 51,
   "metadata": {},
   "outputs": [
    {
     "name": "stdout",
     "output_type": "stream",
     "text": [
      "person is a teenager\n"
     ]
    }
   ],
   "source": [
    "person_age = [2,4,13,20,65]\n",
    "for pa in person_age:\n",
    "    if (pa>=13)&(pa<20):\n",
    "        print(\"person is a teenager\")"
   ]
  },
  {
   "cell_type": "code",
   "execution_count": 52,
   "metadata": {},
   "outputs": [
    {
     "name": "stdout",
     "output_type": "stream",
     "text": [
      "person is a elder\n"
     ]
    }
   ],
   "source": [
    "person_age = [2,4,13,20,65]\n",
    "for pa in person_age:\n",
    "    if (pa>=65):\n",
    "        print(\"person is a elder\")"
   ]
  },
  {
   "cell_type": "code",
   "execution_count": 53,
   "metadata": {},
   "outputs": [],
   "source": [
    "favorite_fruits = [\"grapes\",\"papaya\",\"orange\",\"pomegranate\"]"
   ]
  },
  {
   "cell_type": "code",
   "execution_count": 56,
   "metadata": {},
   "outputs": [
    {
     "name": "stdout",
     "output_type": "stream",
     "text": [
      "i like this\n"
     ]
    }
   ],
   "source": [
    "for favorite_fruit in favorite_fruits:\n",
    "    if favorite_fruit == \"grapes\":\n",
    "        print(\"i like this\")\n",
    "    "
   ]
  },
  {
   "cell_type": "code",
   "execution_count": 58,
   "metadata": {},
   "outputs": [
    {
     "name": "stdout",
     "output_type": "stream",
     "text": [
      "i like this\n",
      "i like orange also\n"
     ]
    }
   ],
   "source": [
    "for favorite_fruit in favorite_fruits:\n",
    "    if favorite_fruit == \"grapes\":\n",
    "        print(\"i like this\")\n",
    "    if favorite_fruit == \"orange\":\n",
    "        print(\"i like orange also\")"
   ]
  },
  {
   "cell_type": "code",
   "execution_count": 59,
   "metadata": {},
   "outputs": [
    {
     "name": "stdout",
     "output_type": "stream",
     "text": [
      "i like this\n",
      "i don't like banana\n",
      "i don't like banana\n",
      "i like orange also\n",
      "i don't like banana\n",
      "i don't like banana\n"
     ]
    }
   ],
   "source": [
    "for favorite_fruit in favorite_fruits:\n",
    "    if favorite_fruit == \"grapes\":\n",
    "        print(\"i like this\")\n",
    "    if favorite_fruit == \"orange\":\n",
    "        print(\"i like orange also\")\n",
    "    if favorite_fruit != \"banana\":\n",
    "        print(\"i don't like banana\")"
   ]
  },
  {
   "cell_type": "code",
   "execution_count": 63,
   "metadata": {},
   "outputs": [
    {
     "name": "stdout",
     "output_type": "stream",
     "text": [
      "i don't like fruits\n"
     ]
    }
   ],
   "source": [
    "for favorite_fruit in favorite_fruits:\n",
    "    if favorite_fruit == \"mango\":\n",
    "        print(\"i like this\")\n",
    "    \n",
    "else: \n",
    "        print(\"i don't like fruits\")"
   ]
  },
  {
   "cell_type": "code",
   "execution_count": 64,
   "metadata": {},
   "outputs": [],
   "source": [
    "usersname = [\"admin\",\"priya\",\"rahul\",\"ram\",\"mohan\"]"
   ]
  },
  {
   "cell_type": "code",
   "execution_count": 68,
   "metadata": {},
   "outputs": [
    {
     "name": "stdout",
     "output_type": "stream",
     "text": [
      "Hello admin would you like to see you status report?\n",
      "Thank you\n",
      "Thank you\n",
      "Hello ram\n",
      "Thank you\n"
     ]
    }
   ],
   "source": [
    "for username in usersname:\n",
    "    if username==\"admin\":\n",
    "        print(\"Hello admin would you like to see you status report?\")\n",
    "    elif username==\"ram\":\n",
    "        print(\"Hello ram\")\n",
    "    else:\n",
    "        print(\"Thank you\")"
   ]
  },
  {
   "cell_type": "code",
   "execution_count": 69,
   "metadata": {},
   "outputs": [],
   "source": [
    "usersname = []"
   ]
  },
  {
   "cell_type": "code",
   "execution_count": 71,
   "metadata": {},
   "outputs": [
    {
     "name": "stdout",
     "output_type": "stream",
     "text": [
      "user is not present\n"
     ]
    }
   ],
   "source": [
    "if usersname:\n",
    "    for username in usersname:\n",
    "        print(\"i am searching user\")\n",
    "else:\n",
    "    print(\"user is not present\")"
   ]
  },
  {
   "cell_type": "code",
   "execution_count": 75,
   "metadata": {},
   "outputs": [],
   "source": [
    "current_users=[\"ram\",\"sita\",\"gita\",\"rita\",\"radha\"]\n",
    "new_users=[\"mohan\",\"gita\",\"Rita\",\"sohan\",\"radha\"]"
   ]
  },
  {
   "cell_type": "code",
   "execution_count": 79,
   "metadata": {},
   "outputs": [
    {
     "name": "stdout",
     "output_type": "stream",
     "text": [
      "mohan  is available\n",
      "Please enter new user name\n",
      "Rita  is available\n",
      "sohan  is available\n",
      "Please enter new user name\n"
     ]
    }
   ],
   "source": [
    "for nu in new_users:\n",
    "    if nu in(current_users):\n",
    "        print(\"Please enter new user name\")\n",
    "    else:\n",
    "        print(nu,\" is available\")"
   ]
  },
  {
   "cell_type": "code",
   "execution_count": 82,
   "metadata": {},
   "outputs": [
    {
     "data": {
      "text/plain": [
       "['radha', 'sita', 'gita', 'rita', 'radha']"
      ]
     },
     "execution_count": 82,
     "metadata": {},
     "output_type": "execute_result"
    }
   ],
   "source": [
    "i = 0\n",
    "for cu  in current_users:\n",
    "    current_users[i] = cu.lower()\n",
    "current_users"
   ]
  },
  {
   "cell_type": "code",
   "execution_count": 84,
   "metadata": {},
   "outputs": [
    {
     "data": {
      "text/plain": [
       "['mohan', 'gita', 'Rita', 'sohan', 'radha']"
      ]
     },
     "execution_count": 84,
     "metadata": {},
     "output_type": "execute_result"
    }
   ],
   "source": [
    "new_users"
   ]
  },
  {
   "cell_type": "code",
   "execution_count": 83,
   "metadata": {},
   "outputs": [
    {
     "name": "stdout",
     "output_type": "stream",
     "text": [
      "mohan  is available\n",
      "Please enter new user name\n",
      "Please enter new user name\n",
      "sohan  is available\n",
      "Please enter new user name\n"
     ]
    }
   ],
   "source": [
    "for nu in new_users:\n",
    "    if nu.lower() in(current_users):\n",
    "        print(\"Please enter new user name\")\n",
    "    else:\n",
    "        print(nu,\" is available\")"
   ]
  },
  {
   "cell_type": "code",
   "execution_count": 99,
   "metadata": {},
   "outputs": [
    {
     "data": {
      "text/plain": [
       "[1, 2, 3, 4, 5, 6, 7, 8, 9]"
      ]
     },
     "execution_count": 99,
     "metadata": {},
     "output_type": "execute_result"
    }
   ],
   "source": [
    "list1 = list(range(1,10))\n",
    "list1"
   ]
  },
  {
   "cell_type": "code",
   "execution_count": 98,
   "metadata": {},
   "outputs": [
    {
     "name": "stdout",
     "output_type": "stream",
     "text": [
      "1st\n",
      "2nd\n",
      "3rd\n",
      "4th\n",
      "5th\n",
      "6th\n",
      "7th\n",
      "8th\n",
      "9th\n",
      "ordinal numbers\n"
     ]
    }
   ],
   "source": [
    "for i in list1:\n",
    "    if i==1:\n",
    "        print(\"1st\")\n",
    "    elif i==2:\n",
    "        print(\"2nd\")\n",
    "    elif i==3:\n",
    "        print(\"3rd\")\n",
    "    elif i==4:\n",
    "        print(\"4th\")\n",
    "    elif i==5:\n",
    "        print(\"5th\")\n",
    "    elif i==6:\n",
    "        print(\"6th\")\n",
    "    elif i==7:\n",
    "        print(\"7th\")\n",
    "    elif i==8:\n",
    "        print(\"8th\")\n",
    "    elif i==9:\n",
    "        print(\"9th\")\n",
    "    else:\n",
    "        print(\"ordinal numbers\")"
   ]
  },
  {
   "cell_type": "code",
   "execution_count": 1,
   "metadata": {},
   "outputs": [
    {
     "name": "stdout",
     "output_type": "stream",
     "text": [
      "16\n",
      "None\n"
     ]
    }
   ],
   "source": [
    "def evennum(a,b):\n",
    "    if a % 2 == 0:\n",
    "        print(\"This is even number\")\n",
    "    else:\n",
    "        print(a+b)\n",
    "        \n",
    "print(evennum(7,9))"
   ]
  },
  {
   "cell_type": "code",
   "execution_count": null,
   "metadata": {},
   "outputs": [],
   "source": []
  }
 ],
 "metadata": {
  "kernelspec": {
   "display_name": "Python 3",
   "language": "python",
   "name": "python3"
  },
  "language_info": {
   "codemirror_mode": {
    "name": "ipython",
    "version": 3
   },
   "file_extension": ".py",
   "mimetype": "text/x-python",
   "name": "python",
   "nbconvert_exporter": "python",
   "pygments_lexer": "ipython3",
   "version": "3.8.8"
  }
 },
 "nbformat": 4,
 "nbformat_minor": 4
}
